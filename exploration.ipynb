{
 "cells": [
  {
   "cell_type": "code",
   "execution_count": 1,
   "metadata": {},
   "outputs": [],
   "source": [
    "import pandas as pd\n",
    "import numpy as np\n",
    "import matplotlib.pyplot as plt\n",
    "import random\n",
    "import math\n",
    "from collections import Counter\n",
    "\n",
    "import warnings\n",
    "warnings.filterwarnings('ignore')"
   ]
  },
  {
   "cell_type": "code",
   "execution_count": 2,
   "metadata": {},
   "outputs": [],
   "source": [
    "fifa21 = pd.read_csv('FIFA21_official_data.csv')"
   ]
  },
  {
   "cell_type": "code",
   "execution_count": 3,
   "metadata": {},
   "outputs": [
    {
     "data": {
      "text/plain": [
       "Index(['ID', 'Name', 'Age', 'Photo', 'Nationality', 'Flag', 'Overall',\n",
       "       'Potential', 'Club', 'Club Logo', 'Value', 'Wage', 'Special',\n",
       "       'Preferred Foot', 'International Reputation', 'Weak Foot',\n",
       "       'Skill Moves', 'Work Rate', 'Body Type', 'Real Face', 'Position',\n",
       "       'Jersey Number', 'Joined', 'Loaned From', 'Contract Valid Until',\n",
       "       'Height', 'Weight', 'Crossing', 'Finishing', 'HeadingAccuracy',\n",
       "       'ShortPassing', 'Volleys', 'Dribbling', 'Curve', 'FKAccuracy',\n",
       "       'LongPassing', 'BallControl', 'Acceleration', 'SprintSpeed', 'Agility',\n",
       "       'Reactions', 'Balance', 'ShotPower', 'Jumping', 'Stamina', 'Strength',\n",
       "       'LongShots', 'Aggression', 'Interceptions', 'Positioning', 'Vision',\n",
       "       'Penalties', 'Composure', 'Marking', 'StandingTackle', 'SlidingTackle',\n",
       "       'GKDiving', 'GKHandling', 'GKKicking', 'GKPositioning', 'GKReflexes',\n",
       "       'Best Position', 'Best Overall Rating', 'Release Clause',\n",
       "       'DefensiveAwareness'],\n",
       "      dtype='object')"
      ]
     },
     "execution_count": 3,
     "metadata": {},
     "output_type": "execute_result"
    }
   ],
   "source": [
    "fifa21.columns"
   ]
  },
  {
   "cell_type": "code",
   "execution_count": 4,
   "metadata": {},
   "outputs": [],
   "source": [
    "relavent_fields = ['ID', 'Name', 'Overall', 'Club', 'Jersey Number',\n",
    "                   'Finishing', 'ShortPassing', 'LongPassing',\n",
    "                   'Best Position', 'Best Overall Rating']"
   ]
  },
  {
   "cell_type": "code",
   "execution_count": 5,
   "metadata": {},
   "outputs": [],
   "source": [
    "players = fifa21[relavent_fields]"
   ]
  },
  {
   "cell_type": "code",
   "execution_count": 6,
   "metadata": {},
   "outputs": [],
   "source": [
    "players = players[players['Overall'] >= 60]"
   ]
  },
  {
   "cell_type": "code",
   "execution_count": 7,
   "metadata": {},
   "outputs": [],
   "source": [
    "barcelona_players = players[players['Club'] == 'FC Barcelona']\n",
    "city_players = players[players['Club'] == 'Manchester City']"
   ]
  },
  {
   "cell_type": "markdown",
   "metadata": {},
   "source": [
    "## Barcelona starters"
   ]
  },
  {
   "cell_type": "code",
   "execution_count": 8,
   "metadata": {},
   "outputs": [],
   "source": [
    "barcelona_players = barcelona_players.sort_values('Jersey Number')"
   ]
  },
  {
   "cell_type": "code",
   "execution_count": 9,
   "metadata": {},
   "outputs": [],
   "source": [
    "barcelona_starters_id = [192448, 152729, 189511, 194765, 180206, 158023, 231443, 220440, 189332, 199564, 228702]"
   ]
  },
  {
   "cell_type": "code",
   "execution_count": 10,
   "metadata": {},
   "outputs": [],
   "source": [
    "barcelona_starters = barcelona_players[barcelona_players['ID'].isin(barcelona_starters_id)]\n",
    "barcelona_starters.to_csv('barcelona_starters.csv')"
   ]
  },
  {
   "cell_type": "code",
   "execution_count": 11,
   "metadata": {},
   "outputs": [
    {
     "data": {
      "text/html": [
       "<div>\n",
       "<style scoped>\n",
       "    .dataframe tbody tr th:only-of-type {\n",
       "        vertical-align: middle;\n",
       "    }\n",
       "\n",
       "    .dataframe tbody tr th {\n",
       "        vertical-align: top;\n",
       "    }\n",
       "\n",
       "    .dataframe thead th {\n",
       "        text-align: right;\n",
       "    }\n",
       "</style>\n",
       "<table border=\"1\" class=\"dataframe\">\n",
       "  <thead>\n",
       "    <tr style=\"text-align: right;\">\n",
       "      <th></th>\n",
       "      <th>ID</th>\n",
       "      <th>Name</th>\n",
       "      <th>Overall</th>\n",
       "      <th>Club</th>\n",
       "      <th>Jersey Number</th>\n",
       "      <th>Finishing</th>\n",
       "      <th>ShortPassing</th>\n",
       "      <th>LongPassing</th>\n",
       "      <th>Best Position</th>\n",
       "      <th>Best Overall Rating</th>\n",
       "    </tr>\n",
       "  </thead>\n",
       "  <tbody>\n",
       "    <tr>\n",
       "      <th>13611</th>\n",
       "      <td>192448</td>\n",
       "      <td>M. ter Stegen</td>\n",
       "      <td>90</td>\n",
       "      <td>FC Barcelona</td>\n",
       "      <td>1.0</td>\n",
       "      <td>14.0</td>\n",
       "      <td>61.0</td>\n",
       "      <td>63.0</td>\n",
       "      <td>GK</td>\n",
       "      <td>90.0</td>\n",
       "    </tr>\n",
       "    <tr>\n",
       "      <th>962</th>\n",
       "      <td>152729</td>\n",
       "      <td>Piqué</td>\n",
       "      <td>86</td>\n",
       "      <td>FC Barcelona</td>\n",
       "      <td>3.0</td>\n",
       "      <td>65.0</td>\n",
       "      <td>81.0</td>\n",
       "      <td>81.0</td>\n",
       "      <td>CB</td>\n",
       "      <td>86.0</td>\n",
       "    </tr>\n",
       "    <tr>\n",
       "      <th>692</th>\n",
       "      <td>189511</td>\n",
       "      <td>Sergio Busquets</td>\n",
       "      <td>87</td>\n",
       "      <td>FC Barcelona</td>\n",
       "      <td>5.0</td>\n",
       "      <td>67.0</td>\n",
       "      <td>89.0</td>\n",
       "      <td>83.0</td>\n",
       "      <td>CDM</td>\n",
       "      <td>87.0</td>\n",
       "    </tr>\n",
       "    <tr>\n",
       "      <th>3</th>\n",
       "      <td>194765</td>\n",
       "      <td>A. Griezmann</td>\n",
       "      <td>87</td>\n",
       "      <td>FC Barcelona</td>\n",
       "      <td>7.0</td>\n",
       "      <td>88.0</td>\n",
       "      <td>84.0</td>\n",
       "      <td>82.0</td>\n",
       "      <td>ST</td>\n",
       "      <td>87.0</td>\n",
       "    </tr>\n",
       "    <tr>\n",
       "      <th>59</th>\n",
       "      <td>180206</td>\n",
       "      <td>M. Pjanić</td>\n",
       "      <td>85</td>\n",
       "      <td>FC Barcelona</td>\n",
       "      <td>8.0</td>\n",
       "      <td>56.0</td>\n",
       "      <td>90.0</td>\n",
       "      <td>87.0</td>\n",
       "      <td>CM</td>\n",
       "      <td>85.0</td>\n",
       "    </tr>\n",
       "    <tr>\n",
       "      <th>18</th>\n",
       "      <td>158023</td>\n",
       "      <td>L. Messi</td>\n",
       "      <td>93</td>\n",
       "      <td>FC Barcelona</td>\n",
       "      <td>10.0</td>\n",
       "      <td>95.0</td>\n",
       "      <td>91.0</td>\n",
       "      <td>91.0</td>\n",
       "      <td>RW</td>\n",
       "      <td>93.0</td>\n",
       "    </tr>\n",
       "    <tr>\n",
       "      <th>978</th>\n",
       "      <td>231443</td>\n",
       "      <td>O. Dembélé</td>\n",
       "      <td>83</td>\n",
       "      <td>FC Barcelona</td>\n",
       "      <td>11.0</td>\n",
       "      <td>75.0</td>\n",
       "      <td>78.0</td>\n",
       "      <td>76.0</td>\n",
       "      <td>LM</td>\n",
       "      <td>85.0</td>\n",
       "    </tr>\n",
       "    <tr>\n",
       "      <th>1781</th>\n",
       "      <td>220440</td>\n",
       "      <td>C. Lenglet</td>\n",
       "      <td>85</td>\n",
       "      <td>FC Barcelona</td>\n",
       "      <td>15.0</td>\n",
       "      <td>39.0</td>\n",
       "      <td>78.0</td>\n",
       "      <td>74.0</td>\n",
       "      <td>CB</td>\n",
       "      <td>86.0</td>\n",
       "    </tr>\n",
       "    <tr>\n",
       "      <th>21</th>\n",
       "      <td>189332</td>\n",
       "      <td>Jordi Alba</td>\n",
       "      <td>86</td>\n",
       "      <td>FC Barcelona</td>\n",
       "      <td>18.0</td>\n",
       "      <td>73.0</td>\n",
       "      <td>84.0</td>\n",
       "      <td>79.0</td>\n",
       "      <td>LB</td>\n",
       "      <td>86.0</td>\n",
       "    </tr>\n",
       "    <tr>\n",
       "      <th>254</th>\n",
       "      <td>199564</td>\n",
       "      <td>Sergi Roberto</td>\n",
       "      <td>83</td>\n",
       "      <td>FC Barcelona</td>\n",
       "      <td>20.0</td>\n",
       "      <td>63.0</td>\n",
       "      <td>84.0</td>\n",
       "      <td>78.0</td>\n",
       "      <td>RB</td>\n",
       "      <td>83.0</td>\n",
       "    </tr>\n",
       "    <tr>\n",
       "      <th>54</th>\n",
       "      <td>228702</td>\n",
       "      <td>F. de Jong</td>\n",
       "      <td>85</td>\n",
       "      <td>FC Barcelona</td>\n",
       "      <td>21.0</td>\n",
       "      <td>63.0</td>\n",
       "      <td>90.0</td>\n",
       "      <td>86.0</td>\n",
       "      <td>CM</td>\n",
       "      <td>87.0</td>\n",
       "    </tr>\n",
       "  </tbody>\n",
       "</table>\n",
       "</div>"
      ],
      "text/plain": [
       "           ID              Name  Overall          Club  Jersey Number  \\\n",
       "13611  192448     M. ter Stegen       90  FC Barcelona            1.0   \n",
       "962    152729             Piqué       86  FC Barcelona            3.0   \n",
       "692    189511   Sergio Busquets       87  FC Barcelona            5.0   \n",
       "3      194765      A. Griezmann       87  FC Barcelona            7.0   \n",
       "59     180206         M. Pjanić       85  FC Barcelona            8.0   \n",
       "18     158023          L. Messi       93  FC Barcelona           10.0   \n",
       "978    231443        O. Dembélé       83  FC Barcelona           11.0   \n",
       "1781   220440        C. Lenglet       85  FC Barcelona           15.0   \n",
       "21     189332        Jordi Alba       86  FC Barcelona           18.0   \n",
       "254    199564     Sergi Roberto       83  FC Barcelona           20.0   \n",
       "54     228702        F. de Jong       85  FC Barcelona           21.0   \n",
       "\n",
       "       Finishing  ShortPassing  LongPassing Best Position  Best Overall Rating  \n",
       "13611       14.0          61.0         63.0            GK                 90.0  \n",
       "962         65.0          81.0         81.0            CB                 86.0  \n",
       "692         67.0          89.0         83.0           CDM                 87.0  \n",
       "3           88.0          84.0         82.0            ST                 87.0  \n",
       "59          56.0          90.0         87.0            CM                 85.0  \n",
       "18          95.0          91.0         91.0            RW                 93.0  \n",
       "978         75.0          78.0         76.0            LM                 85.0  \n",
       "1781        39.0          78.0         74.0            CB                 86.0  \n",
       "21          73.0          84.0         79.0            LB                 86.0  \n",
       "254         63.0          84.0         78.0            RB                 83.0  \n",
       "54          63.0          90.0         86.0            CM                 87.0  "
      ]
     },
     "execution_count": 11,
     "metadata": {},
     "output_type": "execute_result"
    }
   ],
   "source": [
    "barcelona_starters"
   ]
  },
  {
   "cell_type": "markdown",
   "metadata": {},
   "source": [
    "## City starters"
   ]
  },
  {
   "cell_type": "code",
   "execution_count": 12,
   "metadata": {},
   "outputs": [],
   "source": [
    "city_players = city_players.sort_values('Jersey Number')"
   ]
  },
  {
   "cell_type": "code",
   "execution_count": 13,
   "metadata": {},
   "outputs": [],
   "source": [
    "city_starters_id = [188377, 202652, 153079, 212218, 192985, 218667, 135507, 210257, 204884, 203574, 231866]\n",
    "city_starters = city_players[city_players['ID'].isin(city_starters_id)]\n",
    "city_starters.to_csv('city_starters.csv')"
   ]
  },
  {
   "cell_type": "code",
   "execution_count": 14,
   "metadata": {},
   "outputs": [],
   "source": [
    "# city_starters"
   ]
  },
  {
   "cell_type": "markdown",
   "metadata": {},
   "source": [
    "## Simulating gameplay"
   ]
  },
  {
   "cell_type": "code",
   "execution_count": 15,
   "metadata": {},
   "outputs": [],
   "source": [
    "random.seed(34)"
   ]
  },
  {
   "cell_type": "markdown",
   "metadata": {},
   "source": [
    "### --- Scoring likelihood is proportional to 'finishing'"
   ]
  },
  {
   "cell_type": "code",
   "execution_count": 16,
   "metadata": {},
   "outputs": [],
   "source": [
    "barcelona_starters['scoring likelihood'] = barcelona_starters.apply(lambda row: row.Finishing, axis=1)"
   ]
  },
  {
   "cell_type": "code",
   "execution_count": 17,
   "metadata": {},
   "outputs": [],
   "source": [
    "# barcelona_starters"
   ]
  },
  {
   "cell_type": "code",
   "execution_count": 18,
   "metadata": {},
   "outputs": [],
   "source": [
    "#likelihood of each barcelona player scoring\n",
    "\n",
    "gk = [1]\n",
    "defense = [3,15,18,20]\n",
    "mid = [5,8,21]\n",
    "forwards = [7,10,11]\n",
    "weights = list(barcelona_starters['Finishing'])"
   ]
  },
  {
   "cell_type": "markdown",
   "metadata": {},
   "source": [
    "### plays more forward => more likely to score"
   ]
  },
  {
   "cell_type": "code",
   "execution_count": 19,
   "metadata": {},
   "outputs": [],
   "source": [
    "def adjust_likelihood(jersey_num, initial_likelihood):\n",
    "    if jersey_num in gk:\n",
    "        return initial_likelihood/100\n",
    "    if jersey_num in defense:\n",
    "        return initial_likelihood\n",
    "    if jersey_num in mid:\n",
    "        return initial_likelihood * 2\n",
    "    if jersey_num in forwards:\n",
    "        return initial_likelihood * 4"
   ]
  },
  {
   "cell_type": "code",
   "execution_count": 20,
   "metadata": {},
   "outputs": [],
   "source": [
    "barcelona_starters['scoring likelihood'] = barcelona_starters.apply(lambda row: adjust_likelihood(row['Jersey Number'], row['scoring likelihood']), axis = 1)"
   ]
  },
  {
   "cell_type": "code",
   "execution_count": 21,
   "metadata": {},
   "outputs": [],
   "source": [
    "# barcelona_starters"
   ]
  },
  {
   "cell_type": "code",
   "execution_count": 22,
   "metadata": {},
   "outputs": [],
   "source": [
    "#likelihood of each city player scoring\n",
    "\n",
    "city_starters['scoring likelihood'] = city_starters.apply(lambda row: row.Finishing, axis=1)\n",
    "\n",
    "gk = [31]\n",
    "defense = [2, 5, 14, 22]\n",
    "mid = [17, 25, 16]\n",
    "forwards = [7, 10, 20]\n",
    "\n",
    "weights = list(city_starters['Finishing'])\n",
    "\n",
    "city_starters['scoring likelihood'] = city_starters.apply(\n",
    "                                                    lambda row: adjust_likelihood(row['Jersey Number'], row['scoring likelihood']), \n",
    "                                                    axis = 1)"
   ]
  },
  {
   "cell_type": "code",
   "execution_count": 23,
   "metadata": {},
   "outputs": [],
   "source": [
    "# barcelona_starters\n",
    "# city_starters"
   ]
  },
  {
   "cell_type": "code",
   "execution_count": 24,
   "metadata": {},
   "outputs": [
    {
     "data": {
      "text/plain": [
       "{' Rodri': 403,\n",
       " ' Bernardo Silva': 935,\n",
       " ' B. Mendy': 125,\n",
       " ' S. Agüero': 1177,\n",
       " ' Fernandinho': 402,\n",
       " ' R. Sterling': 1033,\n",
       " ' A. Laporte': 153,\n",
       " ' K. De Bruyne': 514,\n",
       " ' J. Stones': 99,\n",
       " ' K. Walker': 159}"
      ]
     },
     "execution_count": 24,
     "metadata": {},
     "output_type": "execute_result"
    }
   ],
   "source": [
    "population = list(city_starters['Name'])\n",
    "weights = list(city_starters['scoring likelihood'])\n",
    "goals = dict()\n",
    "for i in range(5000):\n",
    "    curr_choice = random.choices([x for x in range(0,11)], weights)[0]\n",
    "    if population[curr_choice] in goals.keys():\n",
    "        goals[population[curr_choice]]+=1\n",
    "    else:\n",
    "        goals[population[curr_choice]] = 1\n",
    "goals"
   ]
  },
  {
   "cell_type": "code",
   "execution_count": 25,
   "metadata": {},
   "outputs": [],
   "source": [
    "# assigning numnber of passes \n",
    "barca_total_passes = 650 + (random.random() - 0.5)*2*100\n",
    "city_total_passes = 650 + (random.random() - 0.5)*2*100\n",
    "\n",
    "barca_starters_numbers = [int(x) for x in list(barcelona_starters['Jersey Number'])]\n",
    "city_starters_numbers = [int(x) for x in list(city_starters['Jersey Number'])]\n",
    "\n",
    "\n",
    "barca_passes_byPlayers = {(p1,p2): 0 for p1 in barca_starters_numbers for p2 in barca_starters_numbers if p1 != p2}\n",
    "city_passes_byPlayers = {(p1,p2): 0 for p1 in city_starters_numbers for p2 in city_starters_numbers if p1 != p2}\n",
    "\n",
    "for i in range(90):\n",
    "    #for this minute\n",
    "    barca_passes = 7 + (random.random() - 0.5)*2*5\n",
    "    city_passes = 7 + (random.random() - 0.5)*2*5\n",
    "    \n",
    "    #for barca\n",
    "    for k in range(int(barca_passes)):\n",
    "        barca_passes_byPlayers[random.choice(list(barca_passes_byPlayers.keys()))] += 1\n",
    "    \n",
    "    #for city\n",
    "    for k in range(int(city_passes)):\n",
    "        city_passes_byPlayers[random.choice(list(city_passes_byPlayers.keys()))] += 1\n",
    "\n",
    "# city_passes_byPlayers"
   ]
  },
  {
   "cell_type": "markdown",
   "metadata": {},
   "source": [
    "## scoring chances weighted by 'scorer_weights'"
   ]
  },
  {
   "cell_type": "code",
   "execution_count": 26,
   "metadata": {},
   "outputs": [],
   "source": [
    "def game():\n",
    "    population = [0,1]\n",
    "    weights = [29/30, 1/30]\n",
    "    \n",
    "    team1_score = 0\n",
    "    team2_score = 0\n",
    "    team1_scorers = []\n",
    "    team1_score_time = []\n",
    "    team2_scorers = []\n",
    "    team2_score_time = []\n",
    "\n",
    "    for i in range(90):\n",
    "        team_1 = random.choices(population, weights)[0]\n",
    "        team_2 = random.choices(population, weights)[0]\n",
    "        \n",
    "        if team_1 == 1:   #team1 scores\n",
    "            scorer_population = list(barcelona_starters['Name'])\n",
    "            scorer_weights = list(barcelona_starters['scoring likelihood'])\n",
    "            #generates a number, according to weight\n",
    "            curr_choice = random.choices([x for x in range(0,11)], scorer_weights)[0]\n",
    "            #a player is chosen based on the generated number\n",
    "            curr_scorer = scorer_population[curr_choice]\n",
    "            team1_scorers.append(curr_scorer)\n",
    "            team1_score_time.append(i)\n",
    "#             print(\"Goal Barcelona {}' - {}\".format(i, curr_scorer))\n",
    "            team1_score+=1\n",
    "            \n",
    "        if team_2 == 1:    #team2 scores\n",
    "            scorer_population = list(city_starters['Name'])\n",
    "            scorer_weights = list(city_starters['scoring likelihood'])\n",
    "            curr_choice = random.choices([x for x in range(0,11)], scorer_weights)[0]\n",
    "            curr_scorer = scorer_population[curr_choice]\n",
    "            team2_scorers.append(curr_scorer)\n",
    "            team1_score_time.append(i)\n",
    "#             print(\"Goal Manchester City {}' - {}' \".format(i, curr_scorer))\n",
    "            team2_score+=1\n",
    "\n",
    "        \n",
    "#     print('Final Score: {} - {}'.format(team1_score, team2_score))\n",
    "    return [(team1_score, team2_score), team1_score_time, team2_score_time, team1_scorers, team2_scorers]"
   ]
  },
  {
   "cell_type": "code",
   "execution_count": 27,
   "metadata": {},
   "outputs": [],
   "source": [
    "g = game()"
   ]
  },
  {
   "cell_type": "code",
   "execution_count": 28,
   "metadata": {},
   "outputs": [],
   "source": [
    "# more than one game at a time\n",
    "def play_game(n):\n",
    "    team_1_total_score = 0\n",
    "    team_2_total_score = 0\n",
    "    team_1_all_scorers = []\n",
    "    team_2_all_scorers = []\n",
    "    \n",
    "    for i in range(n):\n",
    "        (team1_score, team2_score), team1_score_time, team2_score_time, team1_scorers, team2_scorers = game()\n",
    "        team_1_total_score += team1_score\n",
    "        team_2_total_score += team2_score\n",
    "        \n",
    "        team_1_all_scorers += team1_scorers\n",
    "        team_2_all_scorers += team2_scorers\n",
    "    all_team1_scorers = dict(Counter(team_1_all_scorers))\n",
    "    all_team2_scorers = dict(Counter(team_2_all_scorers))\n",
    "    \n",
    "    all_team1_scorers = {k: v for k, v in sorted(all_team1_scorers.items(), key=lambda item: item[1], reverse=True)}\n",
    "    all_team2_scorers = {k: v for k, v in sorted(all_team2_scorers.items(), key=lambda item: item[1], reverse=True)}\n",
    "\n",
    "\n",
    "    return [team_1_total_score, team_2_total_score, all_team1_scorers, all_team2_scorers]"
   ]
  },
  {
   "cell_type": "code",
   "execution_count": 101,
   "metadata": {},
   "outputs": [
    {
     "name": "stdout",
     "output_type": "stream",
     "text": [
      "Final score: ----Barcelona 5903 - 6182 Manchester City----\n",
      "==============================\n",
      "Barcelona scorers: \n",
      "Player                Number of goals     \n",
      " L. Messi             1324                \n",
      " A. Griezmann            1258                \n",
      " O. Dembélé            1058                \n",
      " Sergio Busquets            498                 \n",
      " F. de Jong            476                 \n",
      " M. Pjanić            422                 \n",
      " Jordi Alba            263                 \n",
      " Sergi Roberto            236                 \n",
      " Piqué                232                 \n",
      " C. Lenglet            134                 \n",
      " M. ter Stegen            2                   \n",
      "==============================\n",
      "Man City scorers: \n",
      "Player                Number of goals     \n",
      " S. Agüero            1375                \n",
      " R. Sterling            1354                \n",
      " Bernardo Silva            1214                \n",
      " K. De Bruyne            611                 \n",
      " Rodri                498                 \n",
      " Fernandinho            480                 \n",
      " K. Walker            207                 \n",
      " A. Laporte            169                 \n",
      " B. Mendy             152                 \n",
      " J. Stones            118                 \n",
      " Ederson              4                   \n"
     ]
    }
   ],
   "source": [
    "team_1_total_score, team_2_total_score, all_team1_scorers, all_team2_scorers = play_game(2000)\n",
    "\n",
    "print('Final score: ----Barcelona {} - {} Manchester City----'.format(team_1_total_score, team_2_total_score))\n",
    "print('='*30)\n",
    "print('Barcelona scorers: ')\n",
    "print (\"{:<10}            {:<20}\".format('Player', 'Number of goals')) \n",
    "for key, value in all_team1_scorers.items(): \n",
    "    print (\"{:<10}            {:<20}\".format(key, value)) \n",
    "print('='*30)\n",
    "print('Man City scorers: ')\n",
    "print (\"{:<10}            {:<20}\".format('Player', 'Number of goals')) \n",
    "for key, value in all_team2_scorers.items(): \n",
    "    print (\"{:<10}            {:<20}\".format(key, value))"
   ]
  },
  {
   "cell_type": "code",
   "execution_count": 114,
   "metadata": {},
   "outputs": [],
   "source": [
    "barca_scorer_names = list(reversed([t[0] for t in list(all_team1_scorers.items())]))\n",
    "barca_scorer_goals = list(reversed([t[1] for t in list(all_team1_scorers.items())]))\n",
    "\n",
    "city_scorer_names = list(reversed([t[0] for t in list(all_team2_scorers.items())]))\n",
    "city_scorer_goals = list(reversed([t[1] for t in list(all_team2_scorers.items())]))"
   ]
  },
  {
   "cell_type": "code",
   "execution_count": 118,
   "metadata": {},
   "outputs": [
    {
     "data": {
      "image/png": "[encoded data removed]",
      "text/plain": [
       "<Figure size 1440x504 with 2 Axes>"
      ]
     },
     "metadata": {
      "needs_background": "light"
     },
     "output_type": "display_data"
    }
   ],
   "source": [
    "fig, ax = plt.subplots(1,2, figsize = (20,7))\n",
    "ax[0].barh(barca_scorer_names, barca_scorer_goals)\n",
    "ax[0].tick_params(labelrotation=0)\n",
    "\n",
    "ax[1].barh(city_scorer_names, city_scorer_goals)\n",
    "ax[1].tick_params(labelrotation=0)"
   ]
  },
  {
   "cell_type": "code",
   "execution_count": null,
   "metadata": {},
   "outputs": [],
   "source": []
  },
  {
   "cell_type": "code",
   "execution_count": null,
   "metadata": {},
   "outputs": [],
   "source": []
  },
  {
   "cell_type": "code",
   "execution_count": null,
   "metadata": {},
   "outputs": [],
   "source": []
  },
  {
   "cell_type": "code",
   "execution_count": null,
   "metadata": {},
   "outputs": [],
   "source": []
  },
  {
   "cell_type": "code",
   "execution_count": null,
   "metadata": {},
   "outputs": [],
   "source": []
  },
  {
   "cell_type": "code",
   "execution_count": null,
   "metadata": {},
   "outputs": [],
   "source": []
  },
  {
   "cell_type": "code",
   "execution_count": null,
   "metadata": {},
   "outputs": [],
   "source": []
  }
 ],
 "metadata": {
  "kernelspec": {
   "display_name": "Python 3",
   "language": "python",
   "name": "python3"
  },
  "language_info": {
   "codemirror_mode": {
    "name": "ipython",
    "version": 3
   },
   "file_extension": ".py",
   "mimetype": "text/x-python",
   "name": "python",
   "nbconvert_exporter": "python",
   "pygments_lexer": "ipython3",
   "version": "3.7.5"
  }
 },
 "nbformat": 4,
 "nbformat_minor": 4
}
